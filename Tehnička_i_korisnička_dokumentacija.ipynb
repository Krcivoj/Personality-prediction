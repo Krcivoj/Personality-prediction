{
 "cells": [
  {
   "cell_type": "markdown",
   "metadata": {
    "id": "pbwQq7iItkcF"
   },
   "source": [
    "<h1><b>TEHNIČKA I KORISNIČKA DOKUMENTACIJA - \n",
    "PREDVIĐANJE TIPA OSOBNOSTI<b></h1>\n",
    "<h2>Ivan Krcivoj i Antonela Bogdanić</h2>\n",
    "<h4>Projekt iz kolegija Umjetna inteligencija\n",
    "    <br>Prirodoslovno-matematički fakultet, Matematički odsjek\n",
    "    <br>veljača 2021., Zagreb  </h4>"
   ]
  },
  {
   "cell_type": "markdown",
   "metadata": {
    "id": "zZdUf94Avvux"
   },
   "source": [
    "<hr> \n",
    "<h3> <b> SADRŽAJ </b> </h3>\n",
    "\n",
    "1. **Uvod**\n",
    "2. **Tehnička dokumentacija** \n",
    "<br> 2.1. **Priprema podataka**\n",
    "<br> 2.2. **Analiza podataka**\n",
    "<br> 2.3. **Modeli predviđanja**\n",
    "<br> 2.4. **Stablo odluke**\n",
    "<br> 2.5. **Neuronske mreže**\n",
    "<br> 2.6. **Slučajna šuma stabala odluka**\n",
    "<br> 2.7. **Logistička regresija**\n",
    "3. **Korisnička dokumentacija**\n",
    "<hr> "
   ]
  },
  {
   "cell_type": "markdown",
   "metadata": {
    "id": "AH9rxzRqxQm4"
   },
   "source": [
    "<h2> <b> 1. UVOD  </b> </h2>\n",
    "\n",
    "Ova je dokumentacija popratni materijal uz Seminarski rad i program *prediction.py*. Prvi dio dokumentacije predstavljaju detalji funkcija i modela korištenih u kodu. Drugi dio dokumentacije odnosi se na korisničke upute o pokretanju i korištenju. \n",
    "\n",
    "Program smo pisali jezikom Python, uz korištenje pomoćnih *libraryja* i *modula*. Također, spomenuli bismo i *Jupyter notebook* u kojem smo određene dijelove koda pisali i pokretali. Ova dokumentacija, kao i Seminarski rad, napisani su korištenjem *Jupyter notebooka*. Time se omogućuje interaktivno pokretanje našeg koda. Zbog toga su funkcije pisane tako da se mogu pokrenuti nezavisno. \n"
   ]
  },
  {
   "cell_type": "markdown",
   "metadata": {
    "id": "DcAZZzInzjC4"
   },
   "source": [
    "<hr> \n",
    "<h2> <b> 2. TEHNIČKA DOKUMENTACIJA </b> </h2>\n",
    "\n",
    "U ovom odjeljku fokusirat ćemo se na objašnjenje koda koji se nalazi u datoteci *prediction.py*. Opise funkcija napisanih u kodu podijelit ćemo u više odjeljaka radi lakšeg snalaženja. Najprije ćemo objasniti funkcije vezane uz pripremu podataka. Zatim će slijediti opisi funkcija koje su korištene pri analiziranju podataka. Na samom kraju, podijelit ćemo u posebna poglavlja svaki od korištenih modela radi lakšeg snalaženja. \n",
    "\n",
    "Na početku samog programa nalaze se naredbe s kojima *importamo* sve potrebne *module* za daljnji rad. Nećemo ih redom obrazlagati. "
   ]
  },
  {
   "cell_type": "markdown",
   "metadata": {
    "id": "K5kWWuUW0hnU"
   },
   "source": [
    "<h3> <b> 2.1 PRIPREMA PODATAKA </b> </h3>\n",
    "\n",
    "Podaci s kojima radimo nalaze se u dvije .csv datoteke naziva *train.csv* i *train.csv* u mapi *Data*. Ta se mapa nalazi u istoj mapi kao i ova dokumentacija. U seminarskom radu opisali smo zašto te dvije datoteke spajamo u jednu, a ovdje ćemo prikazati kako. \n"
   ]
  },
  {
   "cell_type": "code",
   "execution_count": null,
   "metadata": {
    "id": "YpKYOkjb104B"
   },
   "outputs": [],
   "source": [
    "#ucitavanje podataka \n",
    "data_train = pd.read_csv('Data/train.csv')\n",
    "data_test = pd.read_csv('Data/test.csv')\n",
    "#mjenjamo ime zadnjeg stupca\n",
    "data_train.rename(columns={'Personality (Class label)':'Personality'}, inplace=True)\n",
    "data_test.rename(columns={'Personality (class label)':'Personality'}, inplace=True)\n",
    "data = pd.concat([data_train, data_test])\n",
    "\n",
    "flag_valid = 0"
   ]
  },
  {
   "cell_type": "markdown",
   "metadata": {
    "id": "-2JAKP3Z4HL_"
   },
   "source": [
    "U ovom kratkom isječku koda vidimo čitanje datoteka u kojima se nalaze podaci, promjena imena zadnjeg stupca radi jednostavnosti i na kraju spajanje u *data*. *Data*, *data_train*, *data_test* bit će globalne varijable tijekom cijelog programa. Također, jedna od globalnih varijabli bit će i *flag*_*valid*, koja je na početku 0, a kasnije ćemo reći zašto smo je koristili. Za detaljan opis podataka u tablici i samog izgleda tablice upućujemo Vas na Seminarski rad."
   ]
  },
  {
   "cell_type": "code",
   "execution_count": null,
   "metadata": {
    "id": "2eIoHqSg62xu"
   },
   "outputs": [],
   "source": [
    "#funkcija sređuje podatke\n",
    "def adjust_data():\n",
    "  array = data.values\n",
    "  global flag_valid\n",
    "  if flag_valid !=0:\n",
    "      return\n",
    "  \n",
    "  flag_valid +=1\n",
    "  for i in range(len(array)):\n",
    "    if array[i][0]!='Male' and array[i][0]!='Female':\n",
    "        data['Gender'].replace(array[i][0],'Female', inplace=True)\n",
    "\n",
    "  for i in range(len(array)):\n",
    "    if array[i][1]<15 or array[i][1] > 30:\n",
    "      data['Age'].replace(array[i][1],round(data['Age'].mean()), inplace=True)\n",
    "\n",
    "  columns = [ 'Gender','Age','openness','neuroticism','conscientiousness','agreeableness','extraversion', 'Personality']\n",
    "  for j in range(2,7):\n",
    "    for i in range(len(array)):\n",
    "      if array[i][j]<1:\n",
    "         data[columns[j]].replace(array[i][j],1, inplace=True)\n",
    "      elif array[i][j] > 8:\n",
    "        data[columns[j]].replace(array[i][j],8, inplace=True)\n",
    "      "
   ]
  },
  {
   "cell_type": "markdown",
   "metadata": {
    "id": "R1uQNHo262WX"
   },
   "source": [
    "Funkcija *adjust_data*() izgleda kao gore, a ima za zadatak provjeriti ispravnost podataka i promijeniti neispravne podatke. Prije provjere ispravnosti htjeli smo smanjiti složenost i provjeriti je li ovaj posao već odrađen. Ukoliko je vrijednost *flag*_*valid* veća od 0, već smo promijenili  i nije potrebno nastavljati s funkcijom, a ukoliko nije nastavljamo s funkcijom i povećavamo vrijednost *flag_valid*. \n",
    "\n",
    "Moramo provjeriti 3 stvari: jesu li podaci za spol korektno zapisani (imaju li vrijednosti '*Female*' i '*Male*'), jesu li godine u normalnom rasponu i jesu li sve ocjene zapisane brojevima od 1 do 8. Obrazloženja zašto na taj način mijenjamo vrijednosti opisan je u Seminarskom radu. "
   ]
  },
  {
   "cell_type": "markdown",
   "metadata": {
    "id": "mUZh5HZB6qLg"
   },
   "source": [
    "Nadalje, uvidom u tip podataka u tablici, htjeli smo da neki podaci promjene svoj tip. U nekim će nam funkcijama biti pogodno gledati spol numeričkim oznaka, isto vrijedi i za klase osobnosti. Zato smo pretvorbu u numeričke tipove podijelili na dva dijela, odnosno dvije funkcije. \n"
   ]
  },
  {
   "cell_type": "code",
   "execution_count": null,
   "metadata": {
    "id": "7LpO67j6J-Eh"
   },
   "outputs": [],
   "source": [
    "#funkcija koja mjenja spolove u brojeve\n",
    "def gender_to_num():\n",
    "    adjust_data()\n",
    "    data['Gender'].replace(['Male'], 0, inplace=True)\n",
    "    data['Gender'].replace(['Female'], 1, inplace=True)     \n",
    "\n",
    "#funckija promjene osobnosti u brojeve\n",
    "def personality_to_num():\n",
    "    adjust_data()\n",
    "    data['Personality'].replace(['extraverted'], 1, inplace = True)\n",
    "    data['Personality'].replace(['serious'], 2, inplace = True)\n",
    "    data['Personality'].replace(['dependable'], 3, inplace = True)\n",
    "    data['Personality'].replace(['lively'], 4, inplace = True)\n",
    "    data['Personality'].replace(['responsible'], 5, inplace = True)"
   ]
  },
  {
   "cell_type": "markdown",
   "metadata": {
    "id": "LaMhv9lUJ9FD"
   },
   "source": [
    "Funkcije su jednostavne, dodana je samo još jedna provjera jesu li svi podaci korektni (u slučaju kada se funkcije pozivaju izvan konteksta cijele \"priče\"). "
   ]
  },
  {
   "cell_type": "markdown",
   "metadata": {
    "id": "VKmlPxVAOKqR"
   },
   "source": [
    "Zadnji dio pripreme podataka je dijeljenje podataka kako bi ih mogli koristiti na modelima. Možemo reći da u kodu imamo dvije vrste dijeljenja. Prvo dijeljenje označava dijeljenje na podatke za trening i podatke za testiranje. To činimo pomoću funkcije *split_data*(). Cjelokupan skup podataka dijelimo u (standardnom) omjeru 70% za treniranje i 30% podataka za testiranje, a spremamo ih u pripadne globalne varijable *train* i *test*."
   ]
  },
  {
   "cell_type": "code",
   "execution_count": null,
   "metadata": {
    "id": "awzX-qjhwQyu"
   },
   "outputs": [],
   "source": [
    "#dijenje podataka \n",
    "def split_data():\n",
    "    global train \n",
    "    global test \n",
    "    train_length = round(0.7 * len(data))\n",
    "    test = data[train_length:]\n",
    "    train = data[:train_length]"
   ]
  },
  {
   "cell_type": "markdown",
   "metadata": {
    "id": "BJTkQt79wtiT"
   },
   "source": [
    "U drugom tipu dijeljenja podatke dijelimo na \"zavisan\" i \"nezavisan\" dio. Konkretnije, pomoću prvih 7 stupaca želimo predvidjeti vrijednosti u osmom stupcu. Osim toga, htjeli smo da ta funkcija zaokružuje cjelokupnu pripremu podataka za modeliranje. Upravo se zato zove *prepare_date*() i njezin je zadatak proći kroz sve spomenute korake. Nju pozivamo na početku svakog modeliranja. "
   ]
  },
  {
   "cell_type": "code",
   "execution_count": null,
   "metadata": {
    "id": "U2RMC9y7yBwx"
   },
   "outputs": [],
   "source": [
    "#funkcija koja priprema podatke za model\n",
    "def prepare_data():\n",
    "    adjust_data()\n",
    "    gender_to_num()\n",
    "    personality_to_num()\n",
    "    split_data()\n",
    "    \n",
    "    features = [ 'Gender','Age','openness','neuroticism','conscientiousness','agreeableness','extraversion']\n",
    "    global X\n",
    "    global y\n",
    "    global X_test\n",
    "    global y_test\n",
    "    X, y = train[features].values, train['Personality'].values\n",
    "    X_test, y_test = test[features].values, test['Personality'].values"
   ]
  },
  {
   "cell_type": "markdown",
   "metadata": {
    "id": "tiSTpp-XyhuO"
   },
   "source": [
    "Također, dodatne globalne varijable u cijelom kodu su i *X*, *X_test* koje predstavljaju \"nezavisan\" dio trening i test podataka, dok varijable *y* i *y_test* predstavljaju \"zavisan\" dio. "
   ]
  },
  {
   "cell_type": "markdown",
   "metadata": {
    "id": "4QO0XL5pzwLq"
   },
   "source": [
    "<h3> <b> 2.2 ANALIZA PODATAKA </b> </h3>\n",
    "\n",
    "U ovome ćemo dijelu opisati kratke funkcije koje pozivamo prilikom analize podataka. Za svaku funkciju u Seminarskom radu detaljno je opisan razlog korištenja, način pozivanja i zaključak izveden iz prikaza, stoga ćemo u ovoj dokumentaciji objasniti sami kod vezan uz njih. \n",
    "\n",
    "Prva funkcija je vezana uz grafički prikaz PCA analize. "
   ]
  },
  {
   "cell_type": "code",
   "execution_count": null,
   "metadata": {
    "id": "QdhLtSO4yg7_"
   },
   "outputs": [],
   "source": [
    "#graf PCA po dvije komponente\n",
    "def graph_PCA_2():\n",
    "    gender_to_num()\n",
    "    features = [ 'Gender','Age','openness','neuroticism','conscientiousness','agreeableness','extraversion']\n",
    "    n_components = 7\n",
    "\n",
    "    pca = PCA(n_components=n_components)\n",
    "    components = pca.fit_transform(data[features])\n",
    "\n",
    "    total_var = pca.explained_variance_ratio_.sum() * 100\n",
    "\n",
    "    labels = {str(i): f\"PC {i+1}\" for i in range(n_components)}\n",
    "    labels['color'] = 'Personality'\n",
    "\n",
    "    fig = px.scatter_matrix(components, color=data['Personality'], dimensions=range(n_components), labels=labels, title=f'Total Explained Variance: {total_var:.2f}%')\n",
    "    fig.update_traces(diagonal_visible=False)\n",
    "    fig.show()"
   ]
  },
  {
   "cell_type": "markdown",
   "metadata": {
    "id": "-LO5xYSA1BgB"
   },
   "source": [
    "Htjeli smo pojednostaviti korištenje pa smo uz pomoć funkcije *gender_to_num*() pretvorili sve stringove spola u brojeve 0 ili 1. Napomenimo, da se pri nezavisnom korištenju funkcije crtanja grafa (kao i ostalih) ne treba brinuti o ispravnosti podataka jer je ta provjera uključena u funkciji *gender_to_num*(). Koristit ćemo funkcije i metode iz biblioteke *sklearn.decomposition.PCA* , poput *PCA*(), *fit_transform*(), *pca.explained_variance_ratio_.sum*(). Dok iz biblioteke *plotly.express* (koja je importana kao px) koristimo funkcije za grafički prikaz. (Za detalje pogladati u Seminarskom radu pod literatura [4])  "
   ]
  },
  {
   "cell_type": "code",
   "execution_count": null,
   "metadata": {
    "id": "Ig7haOoc5TjS"
   },
   "outputs": [],
   "source": [
    "def scree_plot():\n",
    "    gender_to_num()\n",
    "    features = [ 'Gender','Age','openness','neuroticism','conscientiousness','agreeableness','extraversion']\n",
    "    n_components = 7\n",
    "\n",
    "    pca = PCA(n_components=n_components)\n",
    "    components = pca.fit_transform(data[features])\n",
    "    \n",
    "    per_var = np.round(pca.explained_variance_ratio_ * 100, decimals=2)\n",
    "    print(per_var)\n",
    "\n",
    "    labels = ['PC' + str(x) for x in range(1, len(per_var)+1)]\n",
    "    plt.bar(x=range(1,len(per_var)+1), height=per_var, tick_label= labels )\n",
    "    plt.xlabel('Principal Component')\n",
    "    plt.ylabel('Persentage of Explaind Variance')\n",
    "    plt.title('Scree Plot')\n",
    "    plt.show()"
   ]
  },
  {
   "cell_type": "markdown",
   "metadata": {
    "id": "q9J4M52E5ZES"
   },
   "source": [
    "Sljedeća funkcija nam \"crta\" *scree plot*. Opet ćemo radi jednostavnosti pretvoriti spol u numeričke vrijednosti. Nadalje, slijedi sličan dio koda kao kod prethodne funkcije. Ovdje dodatno koristimo funkcije iz *mathplotlib.pyplot*. Jedan dio koda tiče se detalja uređenja samog grafa."
   ]
  },
  {
   "cell_type": "code",
   "execution_count": null,
   "metadata": {
    "id": "juv9taG36Q1o"
   },
   "outputs": [],
   "source": [
    "def graph_PCA():\n",
    "    gender_to_num()\n",
    "    features = [ 'Gender','Age','openness','neuroticism','conscientiousness','agreeableness','extraversion']\n",
    "    X = data[features]\n",
    "\n",
    "    pca = PCA(n_components=2)\n",
    "    components = pca.fit_transform(X)\n",
    "\n",
    "    loadings = pca.components_.T * np.sqrt(pca.explained_variance_)\n",
    "    fig = px.scatter(components, x=0, y=1, color=data['Personality'])\n",
    "    for i, feature in enumerate(features):\n",
    "        fig.add_shape(\n",
    "            type='line',\n",
    "            x0=0, y0=0,\n",
    "            x1=loadings[i, 0],\n",
    "            y1=loadings[i, 1]\n",
    "        )\n",
    "        fig.add_annotation(\n",
    "            x=loadings[i, 0],\n",
    "            y=loadings[i, 1],\n",
    "            ax=0, ay=0,\n",
    "            xanchor=\"center\",\n",
    "            yanchor=\"bottom\",\n",
    "            text=feature,\n",
    "        )\n",
    "        fig.update_layout(title_text= 'PCA', xaxis_title='PC1', yaxis_title='PC2', )\n",
    "    fig.show()"
   ]
  },
  {
   "cell_type": "markdown",
   "metadata": {
    "id": "NVtrzS9N6p5W"
   },
   "source": [
    "Još jedan graf vezan uz PCA je *graph_PCA*(). Njime prikazujemo sve podatke u dvije dimenzije na grafu i nadamo se dobiti \"lijepo\" grupiranje. Također, veliki dio koda otpada na uređenje samog prikaza, dok je u srži ponovo korištenje funkcija iz navedene biblioteke *sklearn.decomposition.PCA* .  "
   ]
  },
  {
   "cell_type": "markdown",
   "metadata": {
    "id": "4vRmdaAt7QGN"
   },
   "source": [
    "Sljedeća funkcija odnosno grafički prikaz je često korišteni *heatmap* graf. Njega smo implementirali na sljedeći način. "
   ]
  },
  {
   "cell_type": "code",
   "execution_count": null,
   "metadata": {
    "id": "V6Pz3yBX6mqH"
   },
   "outputs": [],
   "source": [
    "#heatmap\n",
    "def graph_heatmap():\n",
    "    gender_to_num()\n",
    "    sns.heatmap(data.corr(), vmin=-0.1, vmax=0.1, annot=True, cmap='viridis')\n",
    "    plt.title('Heatmap', fontsize =20)\n",
    "    plt.show()"
   ]
  },
  {
   "cell_type": "markdown",
   "metadata": {
    "id": "F7LmlWAc7yLQ"
   },
   "source": [
    "Biblioteka od koristi nam je ovog puta bila *seaborn* koja u sebi sadrži funkciju za crtanje *heatmape*. Detalji u izgledu grafa dodatno nam pomažu da istaknemo koreliranost podataka. \n"
   ]
  },
  {
   "cell_type": "markdown",
   "metadata": {
    "id": "808vXwmq8T9G"
   },
   "source": [
    "Zanimljiva inačica *box-plota* je *violin plot*. Stoga smo njega htjeli prikazati u našem projektu. Prilikom poziva funkcije u y varijablu spremamo naziv jednog od 7 \"pitanja\" iz testa. Na taj način, vidimo kako su odgovori na to pitanje distribuirani ovisno o rezultantnoj klasi osobnosti. Primjer jednog poziva funkcije je: violin_plot('openness'). I ovaj graf nalazimo u biblioteci *seaborn*.  "
   ]
  },
  {
   "cell_type": "code",
   "execution_count": null,
   "metadata": {
    "id": "6T6tJ7Em9u9W"
   },
   "outputs": [],
   "source": [
    "#violinplot\n",
    "def violin_plot(Y):\n",
    "  fig = sns.violinplot(data=data, y=Y, x=\"Personality\", hue=\"Personality\", box=True).set_title('Violin plot')\n",
    "  plt.legend(bbox_to_anchor=(1.05, 1), loc=2, borderaxespad=0.).set_title('Personality:')\n",
    "  plt.show()\n"
   ]
  },
  {
   "cell_type": "markdown",
   "metadata": {
    "id": "9Hfa5x3y-cU2"
   },
   "source": [
    "Zadnja funkcija iz analize podataka služi nam za prikaz distribucija 5 klasa osobnosti u *train* i *test* podacima.   "
   ]
  },
  {
   "cell_type": "code",
   "execution_count": null,
   "metadata": {
    "id": "nTdrDm9f-ZSP"
   },
   "outputs": [],
   "source": [
    "#ispis distribucija\n",
    "def distribution():\n",
    "    gender_to_num()\n",
    "    split_data()\n",
    "    print('Train distribution:\\n', train['Personality'].value_counts() / len(train))\n",
    "    print('\\n\\nTest distribution:\\n', test['Personality'].value_counts() / len(test))"
   ]
  },
  {
   "cell_type": "markdown",
   "metadata": {
    "id": "oypP-TSE_Lhl"
   },
   "source": [
    "Ovdje smo ponovo spol pretvorili u numeričke vrijednosti i podijelili podatke u one za treniranje i testiranje, s ciljem da prikažemo distribuciju 5 rezultantnih klasa za svaki od dva podskupova podataka. "
   ]
  },
  {
   "cell_type": "markdown",
   "metadata": {
    "id": "M8G9pkd0AOZN"
   },
   "source": [
    "<h3> <b> 2.3 MODELI PREDVIĐANJA </b> </h3>\n",
    "\n",
    "Za početak, objasnit ćemo 3 pomoćne funkcije koje nam olakšavaju rad s modelima. Prva od pomoćnih funkcija je *accuracy*() koja prima model i podatke i ispisuje točnost modela u postocima na tim podacima. Tu nam pomaže funkcija *score*() koja je funkcija članica svih modela koje ćemo mi koristiti.  "
   ]
  },
  {
   "cell_type": "code",
   "execution_count": null,
   "metadata": {
    "id": "9zmocRM1AtKR"
   },
   "outputs": [],
   "source": [
    "#funckija za tocnost\n",
    "def accuracy(model, v_X, v_y):\n",
    "  print(\"Accuracy:\",round(model.score(v_X,v_y)*100,2,), \"%\")"
   ]
  },
  {
   "cell_type": "markdown",
   "metadata": {
    "id": "GIoE7kd2BW1o"
   },
   "source": [
    "Sljedeća funkcija je veoma bitna pri treniranju modela jer upravo pomoću nje poboljšavamo svojstva modela. Ona prima model, listu parametara koja ovisi o modelu te podatke na kojima želimo tražiti najbolje pripadne parametre. "
   ]
  },
  {
   "cell_type": "code",
   "execution_count": null,
   "metadata": {
    "id": "o4vTqZGsBWCc"
   },
   "outputs": [],
   "source": [
    "#funkcija za odabir parametara\n",
    "def best_hyperparameters(model, param_grid, X_train, y_train):\n",
    "  gs = GridSearchCV(model, param_grid)\n",
    "  gs.fit(X_train, y_train)\n",
    "  print(gs.best_estimator_)\n",
    "  return gs.best_estimator_\n"
   ]
  },
  {
   "cell_type": "markdown",
   "metadata": {
    "id": "PqHc_UAeB54S"
   },
   "source": [
    "Pomoću funkcija iz biblioteke *sklearn.model_selection* koristeći unakrsnu validaciju i isprobavanje svih mogućih kombinacija parametara iz liste koju smo proslijedili pronalazimo odgovarajući model za naše podatke. "
   ]
  },
  {
   "cell_type": "code",
   "execution_count": null,
   "metadata": {
    "id": "DLcklA6RD15_"
   },
   "outputs": [],
   "source": [
    "#funkcija za k-validaciju\n",
    "def k_validation(model, df, k):\n",
    "  features = [ 'Gender','Age','openness','neuroticism','conscientiousness','agreeableness','extraversion']\n",
    "  acc = []\n",
    "  sub_df = split(df,range(int64(ceil(len(df)/k)), len(df), int64(ceil(len(df)/k))))\n",
    "\n",
    "  for i in range(k): \n",
    "    df_train = pd.DataFrame()\n",
    "    df_test = pd.DataFrame()\n",
    "\n",
    "    for j in range(k):\n",
    "      if i!=j:\n",
    "        df_train = pd.concat([df_train, sub_df[j]])\n",
    "      else: df_test = sub_df[j]\n",
    "    \n",
    "    X, y = df_train[features].values, df_train['Personality'].values\n",
    "    X_test, y_test = df_test[features].values, df_test['Personality'].values\n",
    "\n",
    "    model.fit(X,y)\n",
    "\n",
    "    acc.append(model.score(X_test,y_test)*100)\n",
    "  \n",
    "  title = str(type(model)).split('.')[-1].split(\"'\")[0]\n",
    "  label = 'Average accuracy: {:.2f}%'.format(sum(acc) / len(acc))\n",
    "  fig = sns.boxplot(y = acc)\n",
    "  fig.set(ylabel='Accuracy [%]', title= title, xlabel=label)\n",
    "  plt.show()"
   ]
  },
  {
   "cell_type": "markdown",
   "metadata": {
    "id": "v8vH4z0cD-si"
   },
   "source": [
    "Zadnja pomoćna funkcija je važna za testiranje naših modela. Ona prima model, podatke i varijablu k. Podatke podijelimo u k dijelova i napravimo k-struku unakrsnu validaciju. Na kraju, sve točnosti spremimo u listu i pomoću nje nacrtamo, odnosno prikažemo *box-plot* tih vrijednosti.  "
   ]
  },
  {
   "cell_type": "markdown",
   "metadata": {
    "id": "gTMDw0JfFkGU"
   },
   "source": [
    "<h3> <b> 2.4 STABLO ODLUKE </b> </h3>"
   ]
  },
  {
   "cell_type": "code",
   "execution_count": null,
   "metadata": {
    "id": "GuLPfk1KFjmS"
   },
   "outputs": [],
   "source": [
    "#funkcija vezana uz model STABLA ODLUKE\n",
    "def decision_tree():\n",
    "    prepare_data()\n",
    "    tree = DecisionTreeClassifier(criterion=\"entropy\")\n",
    "    tree_param ={\n",
    "        'splitter': ['best', 'random'],\n",
    "        'max_features': [None, 'sqrt', 'log2'],\n",
    "        'class_weight': [None, 'balanced']\n",
    "        #'min_samples_split' : np.arange(2,10,1),\n",
    "        #'min_samples_leaf' : np.arange(1,50,1)\n",
    "        }\n",
    "    tree = best_hyperparameters(tree, tree_param, X, y)\n",
    "    tree = tree.fit(X,y)\n",
    "    accuracy(tree,X,y)\n",
    "\n",
    "    accuracy(tree,X_test, y_test)\n",
    "    \n",
    "    k_validation(tree,data,30)"
   ]
  },
  {
   "cell_type": "markdown",
   "metadata": {
    "id": "NKSF5D4xFxwD"
   },
   "source": [
    "Kako smo dosta pomoćnih funkcija prije implementirali, stvaranje modela za predikcije bit će nam veoma jednostavno. Prije svega pripremimo podatke na već opisani način. Zatim pomoću biblioteke *sklearn.DecisionTreeClassifier* stvorimo model s unaprijed zadanim kriterijem *entropy*. Ostale parametre spremimo u listu koju zatim prosljeđujemo funkciji *best_hyperparameters*() da nam vrati one najbolje u odnosu na podatke X i y. Nakon toga moramo *fitati* model na tim skupovima i radi predostrožnosti ispišemo točnost na podacima za treniranje. Isto to napravimo i za test podatke. To nije jedina mjera točnosti modela koju ćemo promatrati, već pozovemo i pomoćnu funkciju *k_validation*() koja nam u konačnici i grafički prikaže točnost. "
   ]
  },
  {
   "cell_type": "markdown",
   "metadata": {
    "id": "V6xqa5meHNrS"
   },
   "source": [
    "<h3> <b> 2.5 NEURONSKE MREŽE </b> </h3> "
   ]
  },
  {
   "cell_type": "code",
   "execution_count": null,
   "metadata": {
    "id": "V87rLkb6D-CL"
   },
   "outputs": [],
   "source": [
    "#funkcija za neuronsku mrezu uz vec najbolje parametre\n",
    "def neural_network():\n",
    "    prepare_data()\n",
    "    clf = MLPClassifier(activation='logistic', solver='lbfgs', max_iter=6000, hidden_layer_sizes=(600,600,600), tol=1e-6 )\n",
    "    clf.fit(X, y)\n",
    "    accuracy(clf,X,y)\n",
    "    accuracy(clf,X_test, y_test)\n",
    "    k_validation(clf, data,30)"
   ]
  },
  {
   "cell_type": "markdown",
   "metadata": {
    "id": "IFRHN93UHatX"
   },
   "source": [
    "Objašnjenje koda kod ovog modela veoma je pojednostavljeno s obzirom na to da smo više manje sve već objasnili na prethodnom modelu. Jedina je razlika što u ovome slučaju koristimo biblioteku *sklearn.neural_network.MLPClassifier* i što u kodu ne pozivamo funkciju za traženje najboljih parametara jer bi samo traženje bilo vremenski predugo za demonstraciju koda. Zato dobivene parametre upisujemo ručno u model. Također, i u ovome modelu na isti način testiramo točnost. "
   ]
  },
  {
   "cell_type": "markdown",
   "metadata": {
    "id": "v_H-RDmmIByM"
   },
   "source": [
    "<h3> <b> 2.6 SLUČAJNA ŠUMA STABALA ODLUKA </b> </h3>\n"
   ]
  },
  {
   "cell_type": "code",
   "execution_count": null,
   "metadata": {
    "id": "A3119zdnHaGO"
   },
   "outputs": [],
   "source": [
    "#funkcija za random forest uz vec najbolje parametre   \n",
    "def random_forest():\n",
    "     prepare_data()\n",
    "     rfc=RandomForestClassifier(criterion='entropy', n_estimators=150, max_depth=350, min_samples_leaf=70, min_samples_split=40)\n",
    "     rfc.fit(X,y)    \n",
    "     accuracy(rfc,X_test, y_test)"
   ]
  },
  {
   "cell_type": "markdown",
   "metadata": {
    "id": "Qe0BUyVEIhnA"
   },
   "source": [
    "Ovdje se priča oko vremenski predugog izvršavanja traženja najboljih parametara ponavlja, pa samo ručno ponovo upisujemo najbolje parametre u funkciju. Funkcija koju koristimo nalazi se u biblioteci *sklearn.ensemble.RandomForestClassifier*. Ovdje pozivanje k-validacije nije potrebno, o čemu smo više rekli u Seminarskom radu. "
   ]
  },
  {
   "cell_type": "markdown",
   "metadata": {
    "id": "mJUu1SfuJDlA"
   },
   "source": [
    "<h3> <b> 2.7 LOGISTIČKA REGRESIJA </b> </h3> \n",
    "\n",
    "Za kraj, prikazujemo funkciju *log_reg*(). "
   ]
  },
  {
   "cell_type": "code",
   "execution_count": null,
   "metadata": {
    "id": "1cIyJJeUJk8a"
   },
   "outputs": [],
   "source": [
    "#funkcija za logisticku regresija\n",
    "def log_reg():\n",
    "    prepare_data()\n",
    "    mul_lr = linear_model.LogisticRegression(multi_class='multinomial', max_iter =1000)\n",
    "    lr_param ={\n",
    "        #'C':np.arange(0.01, 1.01, 0.01),\n",
    "        'solver' : ['newton-cg', 'lbfgs'],\n",
    "        'tol' : np.arange(1e-6,1e-4,0.000001)\n",
    "        }   \n",
    "    mul_lr.fit(X, y)\n",
    "    mul_lr = best_hyperparameters(mul_lr, lr_param, X, y)\n",
    "    accuracy(mul_lr, X, y)\n",
    "    accuracy(mul_lr, X_test, y_test)\n",
    "    "
   ]
  },
  {
   "cell_type": "markdown",
   "metadata": {
    "id": "6f88WTjXJujL"
   },
   "source": [
    "Korištenjem biblioteke *sklearn.linear_model* stvaramo model logističke regresije i opet demonstriramo korištenje pomoćne funkcije *best_hyperparameters*(). Na kraju ispisujemo točnosti modela. "
   ]
  },
  {
   "cell_type": "markdown",
   "metadata": {
    "id": "tqV8NUbRKBh-"
   },
   "source": [
    "<h2> <b> 3. KORISNIČKA DOKUMENTACIJA </b> </h2>\n",
    "\n",
    "U paketu koji ste dobili nalaze se više datoteka. Ako želite testirati kod to možete učiniti na više načina. Način koji je najprirodniji je korištenjem datoteke prediction.py. Možete pokrenuti datoteku kao i bilo koju drugu ekstenzije .py i zatim pozivajući funkcije isprobavati kod. Obraćamo pažnju da prilikom toga treba paziti da se podaci na kojima radimo uvijek nalaze u mapi imena Data koja je na istoj razini kao i prediction.py. \n",
    "\n",
    "Još jedan od načina je koristeći Seminarski rad koji je pisan u *Jupyter bilježnici* (ekstenzije .ipynb) i interaktivno pokretati već napisane dijelove koda. Također, možete na sličan način u novoj *Jupyter bilježnici* kreirati dijelove koda i tako isprobavati kod. \n"
   ]
  }
 ],
 "metadata": {
  "colab": {
   "collapsed_sections": [],
   "name": "Tehnička i korisnička dokumentacija.ipynb",
   "provenance": []
  },
  "kernelspec": {
   "display_name": "Python 3",
   "language": "python",
   "name": "python3"
  },
  "language_info": {
   "codemirror_mode": {
    "name": "ipython",
    "version": 3
   },
   "file_extension": ".py",
   "mimetype": "text/x-python",
   "name": "python",
   "nbconvert_exporter": "python",
   "pygments_lexer": "ipython3",
   "version": "3.7.6"
  }
 },
 "nbformat": 4,
 "nbformat_minor": 1
}
